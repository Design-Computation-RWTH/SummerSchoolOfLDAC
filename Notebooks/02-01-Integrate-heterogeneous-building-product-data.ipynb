{
 "cells": [
  {
   "cell_type": "markdown",
   "metadata": {},
   "source": [
    "# Integrate heterogeneous building product data\n",
    "Lecturer: **Anna Wagner**, [RG](https://www.researchgate.net/profile/Anna_Wagner13)  \n",
    "\n",
    "### Problem Description\n",
    "\n",
    "The exchange of product data related to products in the buildings domain is a cumbersome task as it involves multiple companies, domains and dataformats. Linked Data and Semantic Web Technologies (LD & SWT) have been identified to be beneficial, when addressing this heterogeneity in building product data [1,2].\n",
    "\n",
    "Distributing semantically annotated product data on the web using LD & SWT is nowadays an industry standard in particular through the [schema.org](https://schema.org/) and [GoodRelations](http://www.heppnetz.de/projects/goodrelations/) ontologies [3].\n",
    "\n",
    "The potential of LD & SWT in building product data have not yet been fully exploited. Examples for its application exists [2,4,[BauDataWeb](http://semantic.eurobau.com/)], however some problems remain:\n",
    "\n",
    "* A plethory of formats exits and have not been mapped linked to, e.g., GoodRelations;  \n",
    "* It is unclear how building product data formats can be linked to other well established domain models such as the Industry Foundations Classes (IFC).\n",
    "\n",
    "Within this coding challenge you will work on the following tasks:\n",
    "\n",
    "* Bootstrap a novel schema (Tbox) for a real product data standard the German VDI3805 [5-8] (Copies of the standards will be made available by the lecturer)  ;  \n",
    "* Acquire real product data from the CSV file based real product data catalogue and populate your schema level ontology;  \n",
    "* Link your schema to other (building) product data ontologies such as BauDataWeb, GoodRelations, BPO, bsDD-LD ... to experience cross-domain integration  \n",
    "\n",
    "### Research Questions\n",
    "\n",
    "* RQ1: Which schema level alignments exist among building product data and other ontologies in the buildings domain?  \n",
    "* RQ2: Can a national standard, such as VDI 3805, be easily mapped to existing standards for product data on the web?  \n",
    "* RQ3: Which best practices exists, or can be defined, for publishing building product data on the web via LD & SWT?  \n",
    "\n",
    "### Dataset\n",
    "\n",
    "A large number of catalogues of manufacturer catalogues compliant to VDI 3805 exists and can be downloaded here [URL](http://vdi3805-bim.de) or [URL](http://www.vdi3805.org/index.php).  \n",
    "\n",
    "### Tools\n",
    "\n",
    "* [Karma Data Integration tool](http://usc-isi-i2.github.io/karma/)  \n",
    "* [RDFlib a pyhton module for rdf parsing and serialisation](https://rdflib.readthedocs.io/)  \n",
    "* [Slurping CSV in Python](https://www.digitalocean.com/community/tutorials/how-to-handle-plain-text-files-in-python-3)  \n",
    "\n",
    "### References\n",
    "\n",
    "[1] Wagner, A., Möller, L.K., Leifgen, C., Rüppel, U. (2018) *SolConPro: Describing multifunctional building products using semantic web technologies.* In: Karlshoj, J., Scherer, R.J. (eds.) EWork and eBusiness in architecture, engineering and construction: proceedings of the 12th European Conference on Product and Process Modelling (ECPPM 2018). pp. 447-455. 12, CRC Press.\n",
    "\n",
    "[2] Anna Wagner, Wendelin Sprenger, Christoph Maure, and Uwe Rüppel (2019). *BPO: The Building Product Ontology for Assembled Products*. In Proc. of LDAC, Lisbon, Portugal, CEUR-WS.org.\n",
    "\n",
    "[3] Hepp, M.: GoodRelations: An Ontology for Describing Products and Services\n",
    "Offers on the Web. In: Gangemi, A., Euzenat, J. (eds.) Lecture\n",
    "Notes in Computer Science. vol. 5268, pp. 329-346. Springer Berlin Heidelberg,\n",
    "Berlin, Heidelberg (2008). DOI: [10.1007/978-3-540-87696-029](https://doi.org/10.1007/978-3-540-87696-029)\n",
    "\n",
    "[4] Radinger, A., Rodriguez-Castro, B., Stolz, A., & Hepp, M. (2013). BauDataWeb: the Austrian building and construction materials market as linked data. In Proceedings of the 9th International Conference on Semantic Systems (pp. 25-32). ACM.\n",
    "\n",
    "[5] VDI 3805-1 (2011) *Product data exchange in the Building Services - Fundamentals*, Verein Deutscher Ingenieure e.V., Düsseldorf, Germany.\n",
    "\n",
    "[6] VDI 3805-4 (2005) *Product data exchange in the Building Services\n",
    "Pumps*, Verein Deutscher Ingenieure e.V., Düsseldorf, Germany.\n",
    "\n",
    "[7] VDI 3805-18 (2013) *Product data exchange in the building services\n",
    "Panel heating/cooling*, Verein Deutscher Ingenieure e.V., Düsseldorf, Germany.\n",
    "\n",
    "[8] VDI 3805-33 (2017) *Product data exchange in the building services – Controls and accessories*, Verein Deutscher Ingenieure e.V., Düsseldorf, Germany."
   ]
  },
  {
   "cell_type": "code",
   "execution_count": null,
   "metadata": {},
   "outputs": [],
   "source": []
  }
 ],
 "metadata": {
  "kernelspec": {
   "display_name": "Python 3",
   "language": "python",
   "name": "python3"
  },
  "language_info": {
   "codemirror_mode": {
    "name": "ipython",
    "version": 3
   },
   "file_extension": ".py",
   "mimetype": "text/x-python",
   "name": "python",
   "nbconvert_exporter": "python",
   "pygments_lexer": "ipython3",
   "version": "3.7.3"
  }
 },
 "nbformat": 4,
 "nbformat_minor": 2
}
