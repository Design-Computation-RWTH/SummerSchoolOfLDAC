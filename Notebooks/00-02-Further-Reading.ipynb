{
 "cells": [
  {
   "cell_type": "markdown",
   "metadata": {},
   "source": [
    "# Further reading\n",
    "A large body of literature and textbooks dedicated to Semantic Web Technologies in general and Linked Building Data in particular can be found. Please find below a non-comprehensive list of references on the topic:\n",
    "\n",
    "\n",
    "**Acronym** | **Reference**\n",
    ":-: | :- \n",
    "[Sab16] | M. Sabou. *An Introduction to SemanticWeb Technologies*. In S. Biffl and M. Sabou, editors, Semantic Web Technologies for Intelligent Engineering Applications, pages 53–84. Springer International Publishing, Cham, Switzerland, 2016, DOI: [10.1007/978-3-319-41490-4_3](https://doi.org/10.1007/978-3-319-41490-4_3).\n",
    "[DFH11] | J. Domingue, D. Fensel, and J. A. Hendler. *Handbook of semantic web technologies*. Springer, Berlin, Germany, 2011, DOI: [10.1007/978-3-540-92913-0](https://doi.org/10.1007/978-3-540-92913-0).\n",
    "[PZL17] | P. Pauwels, S. Zhang, and Y.-C. Lee. *Semantic web technologies in AEC industry: A literature overview*. Automation in Construction, 73:145–165, 2017, DOI: [10.1016/j.autcon.2016.10.003](https://doi.org/10.1016/j.autcon.2016.10.003).\n",
    "[Sch19] | G. F. Schneider. *A - Foundations of the Semantic Web* in Semantic Modelling of Control Logic in Automation Systems - Knowledge-Based Support of the Engineering and Operation of Control Logic in Building and Industrial Automation Systems. Fakultät für Maschinenbau, Karlsruher Institut für Technologie (KIT), Karlsruhe, DOI: [10.5445/IR/1000092405](https://doi.org/10.1016/10.5445/IR/1000092405).\n",
    "[Lam17] | J.-B. Lamy. *Owlready: Ontology-oriented programming in Python with automatic classification and high level constructs for biomedical ontologies*. Artificial Intelligence In Medicine 2017, 80:11-28 [10.1016/j.artmed.2017.07.002](https://doi.org/10.1016/j.artmed.2017.07.002)"
   ]
  }
 ],
 "metadata": {
  "kernelspec": {
   "display_name": "Python 3",
   "language": "python",
   "name": "python3"
  },
  "language_info": {
   "codemirror_mode": {
    "name": "ipython",
    "version": 3
   },
   "file_extension": ".py",
   "mimetype": "text/x-python",
   "name": "python",
   "nbconvert_exporter": "python",
   "pygments_lexer": "ipython3",
   "version": "3.7.0"
  }
 },
 "nbformat": 4,
 "nbformat_minor": 2
}
