{
 "cells": [
  {
   "cell_type": "markdown",
   "metadata": {},
   "source": [
    "# The coding challenge of the Summmer School of LDAC\n",
    "\n",
    "## Getting started\n",
    "\n",
    "* [00-00 Check Python Setup](00-00-Check-Python-Setup.ipynb)  \n",
    "* [00-01 Check Internet Connection](00-01-Check-Internet-Connection.ipynb)  \n",
    "* [00-02 Further Reading](00-02-Further-Reading.ipynb)  \n",
    "  \n",
    "* [My link to queryOSH](queryOSH.ipynb)\n",
    "\n",
    "## Chapter 1 - Guided Programming\n",
    "\n",
    "* [01-00 Program your TBox](01-00-Program-your-TBox.ipynb)  \n",
    "* [01-01 Program your ABox](01-01-Program-your-ABox.ipynb)  \n",
    "* [01-03 Query a knowledge-base with SPARQL](01-03-Query-a-knowledge-base-with-SPARQL.ipynb)  \n",
    "* [01-04 Represent rules with SWRL](01-04-Represent-rules-with-SWRL.ipynb)  \n",
    "\n",
    "## Chapter 2 - Open challenges for the **Coding Challenge**\n",
    "\n",
    "* [02-00 Integrate heterogeneous building product data](02-00-Integrate-heterogeneous-building-product-data.ipynb)  \n",
    "* [02-01 Knowledge-based Control of Buildings](02-01-Knowledge-based-Control-of-Buildings.ipynb)  \n"
   ]
  },
  {
   "cell_type": "code",
   "execution_count": null,
   "metadata": {},
   "outputs": [],
   "source": []
  }
 ],
 "metadata": {
  "kernelspec": {
   "display_name": "Python 3",
   "language": "python",
   "name": "python3"
  },
  "language_info": {
   "codemirror_mode": {
    "name": "ipython",
    "version": 3
   },
   "file_extension": ".py",
   "mimetype": "text/x-python",
   "name": "python",
   "nbconvert_exporter": "python",
   "pygments_lexer": "ipython3",
   "version": "3.7.0"
  }
 },
 "nbformat": 4,
 "nbformat_minor": 2
}
