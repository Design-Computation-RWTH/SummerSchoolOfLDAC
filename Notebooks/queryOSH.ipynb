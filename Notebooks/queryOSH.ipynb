{
 "cells": [
  {
   "cell_type": "markdown",
   "metadata": {},
   "source": [
    "# Querying the Open Smart Home Dataset\n",
    "Preparation: Load requests package"
   ]
  },
  {
   "cell_type": "code",
   "execution_count": 1,
   "metadata": {},
   "outputs": [],
   "source": [
    "import requests"
   ]
  },
  {
   "cell_type": "markdown",
   "metadata": {},
   "source": [
    "Step 1: Specify the endpoint of the OSH"
   ]
  },
  {
   "cell_type": "code",
   "execution_count": 2,
   "metadata": {},
   "outputs": [
    {
     "data": {
      "text/plain": [
       "'https://rdf.ontotext.com/4139541402/mydb/repositories/OpenSmartHomeDataSet'"
      ]
     },
     "execution_count": 2,
     "metadata": {},
     "output_type": "execute_result"
    }
   ],
   "source": [
    "endpoint = \"https://rdf.ontotext.com/4139541402/mydb/repositories/OpenSmartHomeDataSet\"\n",
    "endpoint"
   ]
  },
  {
   "cell_type": "markdown",
   "metadata": {},
   "source": [
    "Step 2: Specify your SPARQL query and headers"
   ]
  },
  {
   "cell_type": "code",
   "execution_count": 3,
   "metadata": {},
   "outputs": [],
   "source": [
    "query = \"\"\"PREFIX express: <http://purl.org/voc/express#>\n",
    "PREFIX bot: <https://w3id.org/bot#>\n",
    "PREFIX rdf: <http://www.w3.org/1999/02/22-rdf-syntax-ns#>\n",
    "PREFIX dog: <http://elite.polito.it/ontologies/dogont.owl#>\n",
    "PREFIX seas: <https://w3id.org/seas/>\n",
    "PREFIX dcterms: <http://purl.org/dc/terms/>\n",
    "PREFIX skos: <http://www.w3.org/2004/02/skos/core#>\n",
    "PREFIX ifc: <http://www.buildingsmart-tech.org/ifcOWL/IFC4_ADD1#>\n",
    "\n",
    "SELECT ?SensorIdent\n",
    "WHERE{\n",
    "?ifcglobID express:hasString \"05i4VutGDCsQKCrT6CQvhu\" .\n",
    "?roomIFC ifc:globalId_IfcRoot ?ifcglobID .\n",
    "?room skos:related ?roomIFC .\n",
    "?room bot:containsElement ?TempSensor .\n",
    "?TempSensor rdf:type dog:TemperatureSensor .\n",
    "?TempSensor seas:connectsAt/dcterms:identifier ?SensorIdent .\n",
    "}\"\"\"\n",
    "\n",
    "headers = { \"Accept\" : \"application/sparql-results+json\" ,\n",
    "            \"Content-Type\" : \"application/x-www-form-urlencoded\" }"
   ]
  },
  {
   "cell_type": "markdown",
   "metadata": {},
   "source": [
    "Step 3: Send you query to the triple store as a HTTP POST message"
   ]
  },
  {
   "cell_type": "code",
   "execution_count": 4,
   "metadata": {},
   "outputs": [],
   "source": [
    "req = requests.post( endpoint ,\n",
    "                     headers = headers ,\n",
    "                     data = \"query=\" + query )"
   ]
  },
  {
   "cell_type": "markdown",
   "metadata": {},
   "source": [
    "Step 4: Check whether your query has been succesful:"
   ]
  },
  {
   "cell_type": "code",
   "execution_count": 5,
   "metadata": {},
   "outputs": [
    {
     "name": "stdout",
     "output_type": "stream",
     "text": [
      "{\"head\":{\"vars\":[\"SensorIdent\"]},\"results\":{\"bindings\":[{\"SensorIdent\":{\"type\":\"literal\",\"value\":\"Room1Temp\"}}]}} \n",
      "\n",
      "Request Code: 200\n",
      "\n"
     ]
    }
   ],
   "source": [
    "response = req.content.decode(\"utf-8\")\n",
    "print (response, \"\\n\")\n",
    "\n",
    "# Response status code\n",
    "print (\"Request Code: {}\\n\".format(req.status_code))"
   ]
  },
  {
   "cell_type": "code",
   "execution_count": null,
   "metadata": {},
   "outputs": [],
   "source": []
  }
 ],
 "metadata": {
  "kernelspec": {
   "display_name": "Python 3",
   "language": "python",
   "name": "python3"
  },
  "language_info": {
   "codemirror_mode": {
    "name": "ipython",
    "version": 3
   },
   "file_extension": ".py",
   "mimetype": "text/x-python",
   "name": "python",
   "nbconvert_exporter": "python",
   "pygments_lexer": "ipython3",
   "version": "3.7.0"
  }
 },
 "nbformat": 4,
 "nbformat_minor": 2
}
