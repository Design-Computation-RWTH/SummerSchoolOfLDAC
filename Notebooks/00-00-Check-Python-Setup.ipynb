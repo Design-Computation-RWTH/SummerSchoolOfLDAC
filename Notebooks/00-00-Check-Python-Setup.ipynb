{
 "cells": [
  {
   "cell_type": "markdown",
   "metadata": {},
   "source": [
    "# Check Python setup\n",
    "This introductory notebook will guide you through a small check up of your local python installation."
   ]
  },
  {
   "cell_type": "markdown",
   "metadata": {},
   "source": [
    "Check which python version is currently used by your machine:"
   ]
  },
  {
   "cell_type": "code",
   "execution_count": 1,
   "metadata": {},
   "outputs": [
    {
     "name": "stdout",
     "output_type": "stream",
     "text": [
      "You are using python version: \n"
     ]
    },
    {
     "data": {
      "text/plain": [
       "'3.7.3 | packaged by conda-forge | (default, Mar 27 2019, 23:01:00) \\n[GCC 7.3.0]'"
      ]
     },
     "execution_count": 1,
     "metadata": {},
     "output_type": "execute_result"
    }
   ],
   "source": [
    "import sys\n",
    "print( \"You are using python version: \")\n",
    "sys.version"
   ]
  },
  {
   "cell_type": "markdown",
   "metadata": {},
   "source": [
    "Verify which packages are installed in your current local environment. This depends on your chosen package manager  and operating system.\n",
    "\n",
    "When using conda run:  \n",
    "```conda list```\n",
    "\n",
    "When using pip run:  \n",
    "```pip freeze```"
   ]
  },
  {
   "cell_type": "markdown",
   "metadata": {},
   "source": [
    "Check if your current python environment has the required packages for this tutorial installed:"
   ]
  },
  {
   "cell_type": "code",
   "execution_count": 2,
   "metadata": {},
   "outputs": [],
   "source": [
    "import xlrd"
   ]
  },
  {
   "cell_type": "code",
   "execution_count": 3,
   "metadata": {},
   "outputs": [],
   "source": [
    "import requests"
   ]
  },
  {
   "cell_type": "code",
   "execution_count": 4,
   "metadata": {},
   "outputs": [
    {
     "ename": "ModuleNotFoundError",
     "evalue": "No module named 'rdflib'",
     "output_type": "error",
     "traceback": [
      "\u001b[0;31m---------------------------------------------------------------------------\u001b[0m",
      "\u001b[0;31mModuleNotFoundError\u001b[0m                       Traceback (most recent call last)",
      "\u001b[0;32m<ipython-input-4-7898afa8b071>\u001b[0m in \u001b[0;36m<module>\u001b[0;34m\u001b[0m\n\u001b[0;32m----> 1\u001b[0;31m \u001b[0;32mimport\u001b[0m \u001b[0mrdflib\u001b[0m\u001b[0;34m\u001b[0m\u001b[0;34m\u001b[0m\u001b[0m\n\u001b[0m",
      "\u001b[0;31mModuleNotFoundError\u001b[0m: No module named 'rdflib'"
     ]
    }
   ],
   "source": [
    "import rdflib"
   ]
  },
  {
   "cell_type": "markdown",
   "metadata": {},
   "source": [
    "If there is a **ModuleNotFoundError** install the missing module, e.g. for conda (from Jake VanderPlas):"
   ]
  },
  {
   "cell_type": "code",
   "execution_count": 5,
   "metadata": {},
   "outputs": [
    {
     "name": "stdout",
     "output_type": "stream",
     "text": [
      "Collecting package metadata: done\n",
      "Solving environment: done\n",
      "\n",
      "## Package Plan ##\n",
      "\n",
      "  environment location: /srv/conda/envs/notebook\n",
      "\n",
      "  added / updated specs:\n",
      "    - rdflib\n",
      "\n",
      "\n",
      "The following packages will be downloaded:\n",
      "\n",
      "    package                    |            build\n",
      "    ---------------------------|-----------------\n",
      "    html5lib-1.0.1             |             py_0          89 KB  conda-forge\n",
      "    isodate-0.6.0              |             py_1          25 KB  conda-forge\n",
      "    keepalive-0.5              |             py_1          10 KB  conda-forge\n",
      "    pyparsing-2.4.0            |             py_0          55 KB  conda-forge\n",
      "    rdflib-4.2.2               |        py37_1000         556 KB  conda-forge\n",
      "    sparqlwrapper-1.8.2        |        py37_1000          37 KB  conda-forge\n",
      "    ------------------------------------------------------------\n",
      "                                           Total:         773 KB\n",
      "\n",
      "The following NEW packages will be INSTALLED:\n",
      "\n",
      "  html5lib           conda-forge/noarch::html5lib-1.0.1-py_0\n",
      "  isodate            conda-forge/noarch::isodate-0.6.0-py_1\n",
      "  keepalive          conda-forge/noarch::keepalive-0.5-py_1\n",
      "  pyparsing          conda-forge/noarch::pyparsing-2.4.0-py_0\n",
      "  rdflib             conda-forge/linux-64::rdflib-4.2.2-py37_1000\n",
      "  sparqlwrapper      conda-forge/linux-64::sparqlwrapper-1.8.2-py37_1000\n",
      "\n",
      "\n",
      "\n",
      "Downloading and Extracting Packages\n",
      "isodate-0.6.0        | 25 KB     | ##################################### | 100% \n",
      "rdflib-4.2.2         | 556 KB    | ##################################### | 100% \n",
      "keepalive-0.5        | 10 KB     | ##################################### | 100% \n",
      "html5lib-1.0.1       | 89 KB     | ##################################### | 100% \n",
      "sparqlwrapper-1.8.2  | 37 KB     | ##################################### | 100% \n",
      "pyparsing-2.4.0      | 55 KB     | ##################################### | 100% \n",
      "Preparing transaction: done\n",
      "Verifying transaction: done\n",
      "Executing transaction: done\n"
     ]
    }
   ],
   "source": [
    "# Install a conda package in the current Jupyter kernel\n",
    "#!conda install --yes --prefix {sys.prefix} <PACKAGENAME>\n",
    "\n",
    "import sys\n",
    "!conda install --yes --prefix {sys.prefix} rdflib"
   ]
  },
  {
   "cell_type": "markdown",
   "metadata": {},
   "source": [
    "Check the current path your are working in"
   ]
  },
  {
   "cell_type": "code",
   "execution_count": 6,
   "metadata": {},
   "outputs": [
    {
     "name": "stdout",
     "output_type": "stream",
     "text": [
      "Your are in path:\n"
     ]
    },
    {
     "data": {
      "text/plain": [
       "'/home/jovyan/Notebooks'"
      ]
     },
     "execution_count": 6,
     "metadata": {},
     "output_type": "execute_result"
    }
   ],
   "source": [
    "import os\n",
    "print( \"Your are in path:\" )\n",
    "os.getcwd()"
   ]
  },
  {
   "cell_type": "code",
   "execution_count": null,
   "metadata": {},
   "outputs": [],
   "source": []
  }
 ],
 "metadata": {
  "kernelspec": {
   "display_name": "Python 3",
   "language": "python",
   "name": "python3"
  },
  "language_info": {
   "codemirror_mode": {
    "name": "ipython",
    "version": 3
   },
   "file_extension": ".py",
   "mimetype": "text/x-python",
   "name": "python",
   "nbconvert_exporter": "python",
   "pygments_lexer": "ipython3",
   "version": "3.7.3"
  }
 },
 "nbformat": 4,
 "nbformat_minor": 2
}
